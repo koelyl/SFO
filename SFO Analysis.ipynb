{
 "cells": [
  {
   "cell_type": "code",
   "execution_count": 78,
   "metadata": {
    "collapsed": false
   },
   "outputs": [],
   "source": [
    "import pandas as pd\n",
    "import numpy as np\n",
    "from matplotlib import pyplot as plt\n",
    "import seaborn as sns\n",
    "from sklearn.preprocessing import Imputer\n",
    "from sklearn.preprocessing import LabelEncoder"
   ]
  },
  {
   "cell_type": "code",
   "execution_count": 79,
   "metadata": {
    "collapsed": false
   },
   "outputs": [],
   "source": [
    "#Settings\n",
    "%matplotlib inline\n",
    "pd.set_option('display.max_columns', 97)"
   ]
  },
  {
   "cell_type": "code",
   "execution_count": 80,
   "metadata": {
    "collapsed": true
   },
   "outputs": [],
   "source": [
    "def read_features():\n",
    "    \n",
    "    rawData = pd.read_csv(\"2016-SFO-Customer-Survey-Data.csv\")\n",
    "    \n",
    "    data = rawData.drop([\"*RESPNUM\",\"CCGID\", \"RUNID\", \"DAY\", \"INTDATE\", \"EGYPTAIR\", \"SAQ\", \"DEST CODE\", \n",
    "                         \"AIRLINE CODE\", \"STRATA\", \"PEAK\", \"GATE\", \"METHOD\", \"FLIGHT\", \"LANG\", \"WEIGHT\", \n",
    "                         \"FLIGHT\", \"DESTGEO\",\"Q3GETTO1\", \"Q3GETTO2\", \"Q3GETTO3\", \"Q3PARK\", \"Q8COM\", \"Q8COM2\", \n",
    "                         \"Q8COM3\", \"Q8COM4\", \"Q8COM5\", \"Q9COM\", \"Q9COM2\", \"Q9COM3\", \"Q10COM1\", \"Q10COM2\", \n",
    "                         \"Q10COM3\", \"Q12PRECOM1\", \"Q12PRECOM2\", \"Q12PRECOM3\", \"Q15COM1\", \"Q15COM2\", \"Q15COM3\", \n",
    "                         \"ARRTIME\", \"DEPTIME\", \"HOME\"], axis = 1)\n",
    "    \n",
    "    return data"
   ]
  },
  {
   "cell_type": "code",
   "execution_count": 111,
   "metadata": {
    "collapsed": false
   },
   "outputs": [],
   "source": [
    "#TODO: Rename this function as subset of cleaning process\n",
    "def clean_data(data):\n",
    "    \n",
    "    # Survey codes blank/multiple responses as zeros. Replace all 0s and \"0\"s with NaN. \n",
    "    data = data.replace(0, np.nan)\n",
    "    data = data.replace(\"0\", np.nan)\n",
    "    \n",
    "    # Calculate threshold based on percentage of columns\n",
    "    #TODO - Missing Data: remove hardcoding of threshold level\n",
    "    threshold = len(data.index) * .15\n",
    "    \n",
    "    # Find columns with missing data above a certain threshold\n",
    "    high_missing = data.columns[data.isnull().sum() > threshold].tolist()\n",
    "    \n",
    "    # Keep only columns with low missing percentage from data\n",
    "    imputables = data.drop(high_missing, axis=1)\n",
    "    \n",
    "    # Rename column names to human-readable text\n",
    "    imputables_renamed = imputables.rename(columns={'BAREA': 'Trav_Boarding_area', 'AIRLINE': 'Trav_Airline', \n",
    "                                                    'DESTINATION': 'Trav_Destination', \n",
    "                                                    'DESTMARK': 'Trav_Dest_market_size', \n",
    "                                                    'HOWLONG': 'Trav_Arr_to_dep_time',\n",
    "                                                    'Q2PURP1': 'Trav_Travel_purpose', \n",
    "                                                    'Q4BAGS': 'Has_checked_baggage','Q4STORE': 'Shopped_stores', \n",
    "                                                    'Q4FOOD': 'Shopped_restaurant', 'Q4WIFI': 'Used_free_wifi',\n",
    "                                                    'Q5TIMESFLOWN': 'Trav_Times_flownSFO', \n",
    "                                                    'Q5FIRSTTIME': 'Trav_Is_first_SFO',\n",
    "                                                    'Q6LONGUSE': 'Trav_yearsUsed_group', 'Q7ART': 'Rate_art', \n",
    "                                                    'Q7FOOD': 'Rate_food', 'Q7STORE': 'Rate_stores', \n",
    "                                                    'Q7SIGN': 'Rate_signs', 'Q7WALKWAYS': 'Rate_moving_walkways', \n",
    "                                                    'Q7SCREENS': 'Rate_infoscreens', \n",
    "                                                    'Q7INFODOWN': 'Rate_infobooth_LL', \n",
    "                                                    'Q7INFOUP': 'Rate_infobooth_UL', 'Q7WIFI': 'Rate_free_wifi', \n",
    "                                                    'Q7ROADS': 'Rate_roadsigns', 'Q7PARK': 'Rate_parking', \n",
    "                                                    'Q7AIRTRAIN': 'Rate_airtrain', \n",
    "                                                    'Q7LTPARKING': 'Rate_parking_shuttle', \n",
    "                                                    'Q7RENTAL': 'Rate_rentacar', 'Q7ALL': 'Rate_SFO_overall', \n",
    "                                                    'Q9BOARDING': 'Clean_boarding_area', \n",
    "                                                    'Q9AIRTRAIN': 'Clean_airtrain', \n",
    "                                                    'Q9RENTAL': 'Clean_rentacar', 'Q9FOOD': 'Clean_restaurant', \n",
    "                                                    'Q9RESTROOM': 'Clean_restoom', 'Q9ALL': 'Clean_overall', \n",
    "                                                    'Q10SAFE': 'How_safe_overall', 'Q11TSAPRE': 'Used_TSA_Precheck', \n",
    "                                                    'Q13 COUNTY': 'Trav_County_of_origin', \n",
    "                                                    'Q13GETRATE': 'Rate_trip_to_airport', \n",
    "                                                    'Q14FIND': 'Ease_of_navigating_inside', \n",
    "                                                    'Q14PASSTHRU': 'Ease_of_passing_security', \n",
    "                                                    'Q15PROBLEM': 'Encountered_problems', 'Q16LIVE': 'Trav_How_local', \n",
    "                                                    'Q17CITY': 'Trav_City', 'Q17COUNTRY': 'Trav_Country', \n",
    "                                                    'Q18PET': 'Trav_with_pet', 'Q19AGE': 'Trav_age_group', \n",
    "                                                    'Q20GENDER': 'Trav_gender', 'Q22FLY': 'Is_Frequent_flyer', \n",
    "                                                    'Q23SJC': 'Used_SJC', 'Q23OAK': 'Used_OAK'\n",
    "                                                    })\n",
    "    # Subset out categorical columns\n",
    "    categorical_columns = ['Trav_Boarding_area', 'Trav_Airline', 'Trav_Destination', 'Trav_Dest_market_size',\n",
    "                            'Trav_Travel_purpose', 'Has_checked_baggage', 'Shopped_stores', 'Shopped_restaurant',\n",
    "                            'Trav_Times_flownSFO', 'Trav_Is_first_SFO', 'Trav_yearsUsed_group', 'Used_TSA_Precheck',\n",
    "                            'Trav_County_of_origin', 'Encountered_problems', 'Trav_How_local','Trav_City', \n",
    "                            'Trav_Country', 'Trav_with_pet', 'Trav_age_group', 'Trav_gender', 'Is_Frequent_flyer',\n",
    "                            'Used_SJC','Used_OAK'\n",
    "                           ]\n",
    "    \n",
    "    categorical_features = imputables_renamed[categorical_columns]\n",
    "        \n",
    "    # TODO - Categorical features:\n",
    "        # Pass through label encoder (new function)\n",
    "        # Clean age (new function)\n",
    "\n",
    "    \n",
    "    # Subset out numeric columns\n",
    "    numeric_features = imputables_renamed.drop(categorical_columns, axis=1)\n",
    "    \n",
    "    \n",
    "    # TODO: Combine times flown and sfo (maybe yearsUsed?)\n",
    "    \n",
    "    \n",
    "    return categorical_features, numeric_features\n",
    "    "
   ]
  },
  {
   "cell_type": "code",
   "execution_count": 112,
   "metadata": {
    "collapsed": false
   },
   "outputs": [],
   "source": [
    "if __name__ == \"__main__\":\n",
    "    \n",
    "    data=read_features()\n",
    "    print clean_data(data)"
   ]
  }
 ],
 "metadata": {
  "anaconda-cloud": {},
  "kernelspec": {
   "display_name": "Python [default]",
   "language": "python",
   "name": "python2"
  },
  "language_info": {
   "codemirror_mode": {
    "name": "ipython",
    "version": 2
   },
   "file_extension": ".py",
   "mimetype": "text/x-python",
   "name": "python",
   "nbconvert_exporter": "python",
   "pygments_lexer": "ipython2",
   "version": "2.7.12"
  }
 },
 "nbformat": 4,
 "nbformat_minor": 1
}
