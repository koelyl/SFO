{
 "cells": [
  {
   "cell_type": "code",
   "execution_count": 2,
   "metadata": {
    "collapsed": false
   },
   "outputs": [],
   "source": [
    "import pandas as pd\n",
    "import numpy as np\n",
    "from matplotlib import pyplot as plt\n",
    "import seaborn as sns\n",
    "from sklearn.preprocessing import Imputer\n",
    "from sklearn.preprocessing import LabelEncoder\n",
    "\n"
   ]
  },
  {
   "cell_type": "code",
   "execution_count": 4,
   "metadata": {
    "collapsed": false
   },
   "outputs": [],
   "source": [
    "#Settings\n",
    "%matplotlib inline\n",
    "pd.set_option('display.max_columns', 97)"
   ]
  },
  {
   "cell_type": "code",
   "execution_count": 6,
   "metadata": {
    "collapsed": true
   },
   "outputs": [],
   "source": [
    "def readFeatures():\n",
    "    \n",
    "    rawData = pd.read_csv(\"2016-SFO-Customer-Survey-Data.csv\")\n",
    "    \n",
    "    data = rawData.drop([\"*RESPNUM\",\"CCGID\", \"RUNID\", \"DAY\", \"INTDATE\", \"EGYPTAIR\", \"SAQ\", \"DEST CODE\", \n",
    "                         \"AIRLINE CODE\", \"STRATA\", \"PEAK\", \"GATE\", \"METHOD\", \"FLIGHT\", \"LANG\", \"WEIGHT\", \n",
    "                         \"FLIGHT\", \"DESTGEO\",\"Q3GETTO1\", \"Q3GETTO2\", \"Q3GETTO3\", \"Q3PARK\", \"Q8COM\", \"Q8COM2\", \n",
    "                         \"Q8COM3\", \"Q8COM4\", \"Q8COM5\", \"Q9COM\", \"Q9COM2\", \"Q9COM3\", \"Q10COM1\", \"Q10COM2\", \n",
    "                         \"Q10COM3\", \"Q12PRECOM1\", \"Q12PRECOM2\", \"Q12PRECOM3\", \"Q15COM1\", \"Q15COM2\", \"Q15COM3\", \n",
    "                         \"ARRTIME\", \"DEPTIME\"], axis = 1)\n",
    "    \n",
    "    return data"
   ]
  }
 ],
 "metadata": {
  "anaconda-cloud": {},
  "kernelspec": {
   "display_name": "Python [default]",
   "language": "python",
   "name": "python2"
  },
  "language_info": {
   "codemirror_mode": {
    "name": "ipython",
    "version": 2
   },
   "file_extension": ".py",
   "mimetype": "text/x-python",
   "name": "python",
   "nbconvert_exporter": "python",
   "pygments_lexer": "ipython2",
   "version": "2.7.12"
  }
 },
 "nbformat": 4,
 "nbformat_minor": 1
}
